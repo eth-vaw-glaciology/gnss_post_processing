{
 "cells": [
  {
   "cell_type": "markdown",
   "metadata": {},
   "source": [
    "# Plot the Output from the GNSS Post-Processing"
   ]
  },
  {
   "cell_type": "markdown",
   "metadata": {},
   "source": [
    "This notebook creates plots from the output of the gnss data processing pipeline."
   ]
  },
  {
   "cell_type": "code",
   "execution_count": null,
   "metadata": {},
   "outputs": [],
   "source": [
    "#import modules\n",
    "import os\n",
    "import pandas as pd\n",
    "import matplotlib.pyplot as plt\n",
    "import datetime\n",
    "from obspy import UTCDateTime"
   ]
  },
  {
   "cell_type": "markdown",
   "metadata": {},
   "source": [
    "Read in your output data from your GNSS post-processing here. You must set the correct filepath to your output file."
   ]
  },
  {
   "cell_type": "code",
   "execution_count": null,
   "metadata": {},
   "outputs": [],
   "source": [
    "#set the filepath correctly\n",
    "filepath='/scratch/graeffd/gps_processing/gps_work/proc_data/PPM2_old/PPM2selectLV95.csv'\n",
    "df=pd.read_csv(filepath)"
   ]
  },
  {
   "cell_type": "code",
   "execution_count": null,
   "metadata": {},
   "outputs": [],
   "source": [
    "#calculate the mean and standard deviation for the quality levels Q=1 and Q=2\n",
    "df_Q12 = df[df['Q']<=2]\n",
    "e_mean = df_Q12['LV95_east'].mean()\n",
    "e_std = df_Q12['LV95_east'].std()\n",
    "n_mean = df_Q12['LV95_north'].mean()\n",
    "n_std = df_Q12['LV95_north'].std()\n",
    "h_mean = df_Q12['LV95_height'].mean()\n",
    "h_std = df_Q12['LV95_height'].std()"
   ]
  },
  {
   "cell_type": "code",
   "execution_count": null,
   "metadata": {},
   "outputs": [],
   "source": [
    "#create for each quality level a seperate dataframe\n",
    "df_Q1=df[df['Q']==1]\n",
    "df_Q2=df[df['Q']==2]\n",
    "df_Q3=df[df['Q']==3]\n",
    "df_Q4=df[df['Q']==4]\n",
    "df_Q5=df[df['Q']==5]"
   ]
  },
  {
   "cell_type": "markdown",
   "metadata": {},
   "source": [
    "## Plot a Map"
   ]
  },
  {
   "cell_type": "code",
   "execution_count": null,
   "metadata": {},
   "outputs": [],
   "source": [
    "#plot a map\n",
    "fig, ax = plt.subplots()\n",
    "\n",
    "ax.plot((df_Q5['LV95_east']-e_mean).tolist(), \n",
    "        (df_Q5['LV95_north']-n_mean).tolist(),\n",
    "        color='C4', marker='o', markersize=1, linestyle='', label='Q=5')\n",
    "ax.plot((df_Q4['LV95_east']-e_mean).tolist(), \n",
    "        (df_Q4['LV95_north']-n_mean).tolist(),\n",
    "        color='C3', marker='o', markersize=1.5, linestyle='', label='Q=4')\n",
    "ax.plot((df_Q3['LV95_east']-e_mean).tolist(), \n",
    "        (df_Q3['LV95_north']-n_mean).tolist(),\n",
    "        color='C2', marker='o', markersize=2, linestyle='', label='Q=3')\n",
    "ax.plot((df_Q2['LV95_east']-e_mean).tolist(), \n",
    "        (df_Q2['LV95_north']-n_mean).tolist(),\n",
    "        color='C1', marker='o', markersize=2.5, linestyle='', label='Q=2')\n",
    "ax.plot((df_Q1['LV95_east']-e_mean).tolist(), \n",
    "        (df_Q1['LV95_north']-n_mean).tolist(),\n",
    "        color='C0', marker='o', markersize=3, linestyle='', label='Q=1')\n",
    "plt.axis('equal')\n",
    "plt.xlabel('East [m]')\n",
    "plt.ylabel('North [m]')\n",
    "plt.legend()\n",
    "fig.savefig(os.path.join(os.path.dirname(filepath), 'map.png'), dpi=300) #uncomment to save the plot\n",
    "plt.show()"
   ]
  },
  {
   "cell_type": "markdown",
   "metadata": {},
   "source": [
    "## Plot the Time Series"
   ]
  },
  {
   "cell_type": "code",
   "execution_count": null,
   "metadata": {},
   "outputs": [],
   "source": [
    "#plot a time series\n",
    "fig, ax = plt.subplots(3, sharex=True, figsize=(15,5))\n",
    "ax[0].plot_date([UTCDateTime(t).datetime for t in (df_Q5['time']).tolist()],\n",
    "          (df_Q5['LV95_east']-e_mean).tolist(),\n",
    "          color='C4', marker='o', markersize=1, linestyle='', label='Q=5')\n",
    "ax[0].plot_date([UTCDateTime(t).datetime for t in (df_Q4['time']).tolist()],\n",
    "          (df_Q4['LV95_east']-e_mean).tolist(),\n",
    "          color='C3', marker='o', markersize=1.5, linestyle='', label='Q=4')\n",
    "ax[0].plot_date([UTCDateTime(t).datetime for t in (df_Q3['time']).tolist()],\n",
    "          (df_Q3['LV95_east']-e_mean).tolist(),\n",
    "          color='C2', marker='o', markersize=2, linestyle='', label='Q=3')\n",
    "ax[0].plot_date([UTCDateTime(t).datetime for t in (df_Q2['time']).tolist()],\n",
    "          (df_Q2['LV95_east']-e_mean).tolist(),\n",
    "          color='C1', marker='o', markersize=2.5, linestyle='', label='Q=2')\n",
    "ax[0].plot_date([UTCDateTime(t).datetime for t in (df_Q1['time']).tolist()],\n",
    "          (df_Q1['LV95_east']-e_mean).tolist(),\n",
    "          color='C0', marker='o', markersize=3, linestyle='', label='Q=1')\n",
    "ax[0].set_ylabel('East [m]')\n",
    "\n",
    "ax[1].plot_date([UTCDateTime(t).datetime for t in (df_Q5['time']).tolist()],\n",
    "          (df_Q5['LV95_north']-n_mean).tolist(),\n",
    "          color='C4', marker='o', markersize=1, linestyle='', label='Q=5')\n",
    "ax[1].plot_date([UTCDateTime(t).datetime for t in (df_Q4['time']).tolist()],\n",
    "          (df_Q4['LV95_north']-n_mean).tolist(),\n",
    "          color='C3', marker='o', markersize=1.5, linestyle='', label='Q=4')\n",
    "ax[1].plot_date([UTCDateTime(t).datetime for t in (df_Q3['time']).tolist()],\n",
    "          (df_Q3['LV95_north']-n_mean).tolist(),\n",
    "          color='C2', marker='o', markersize=2, linestyle='', label='Q=3')\n",
    "ax[1].plot_date([UTCDateTime(t).datetime for t in (df_Q2['time']).tolist()],\n",
    "          (df_Q2['LV95_north']-n_mean).tolist(),\n",
    "          color='C1', marker='o', markersize=2.5, linestyle='', label='Q=2')\n",
    "ax[1].plot_date([UTCDateTime(t).datetime for t in (df_Q1['time']).tolist()],\n",
    "          (df_Q1['LV95_north']-n_mean).tolist(),\n",
    "          color='C0', marker='o', markersize=3, linestyle='', label='Q=1')\n",
    "ax[1].set_ylabel('North [m]')\n",
    "\n",
    "ax[2].plot_date([UTCDateTime(t).datetime for t in (df_Q5['time']).tolist()],\n",
    "          (df_Q5['LV95_height']-h_mean).tolist(),\n",
    "          color='C4', marker='o', markersize=1, linestyle='', label='Q=5')\n",
    "ax[2].plot_date([UTCDateTime(t).datetime for t in (df_Q4['time']).tolist()],\n",
    "          (df_Q4['LV95_height']-h_mean).tolist(),\n",
    "          color='C3', marker='o', markersize=1.5, linestyle='', label='Q=4')\n",
    "ax[2].plot_date([UTCDateTime(t).datetime for t in (df_Q3['time']).tolist()],\n",
    "          (df_Q3['LV95_height']-h_mean).tolist(),\n",
    "          color='C2', marker='o', markersize=2, linestyle='', label='Q=3')\n",
    "ax[2].plot_date([UTCDateTime(t).datetime for t in (df_Q2['time']).tolist()],\n",
    "          (df_Q2['LV95_height']-h_mean).tolist(),\n",
    "          color='C1', marker='o', markersize=2.5, linestyle='', label='Q=2')\n",
    "ax[2].plot_date([UTCDateTime(t).datetime for t in (df_Q1['time']).tolist()],\n",
    "          (df_Q1['LV95_height']-h_mean).tolist(),\n",
    "          color='C0', marker='o', markersize=3, linestyle='', label='Q=1')\n",
    "ax[2].set_ylabel('Height [m]')\n",
    "\n",
    "ax[0].set_ylim([-e_std*2,e_std*2])\n",
    "ax[1].set_ylim([-n_std*2,n_std*2])\n",
    "ax[2].set_ylim([-h_std*2,h_std*2])\n",
    "plt.subplots_adjust(hspace=0)\n",
    "ax[0].legend()\n",
    "all_times = [UTCDateTime(t).datetime for t in df['time'].tolist()]\n",
    "plt.xlim(min(all_times), max(all_times))\n",
    "plt.show()"
   ]
  },
  {
   "cell_type": "code",
   "execution_count": null,
   "metadata": {},
   "outputs": [],
   "source": []
  }
 ],
 "metadata": {
  "kernelspec": {
   "display_name": "Python 3",
   "language": "python",
   "name": "python3"
  },
  "language_info": {
   "codemirror_mode": {
    "name": "ipython",
    "version": 3
   },
   "file_extension": ".py",
   "mimetype": "text/x-python",
   "name": "python",
   "nbconvert_exporter": "python",
   "pygments_lexer": "ipython3",
   "version": "3.7.3"
  }
 },
 "nbformat": 4,
 "nbformat_minor": 2
}
